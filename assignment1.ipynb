{
 "cells": [
  {
   "cell_type": "markdown",
   "metadata": {},
   "source": [
    "# Question Number 1"
   ]
  },
  {
   "cell_type": "code",
   "execution_count": 1,
   "metadata": {},
   "outputs": [
    {
     "name": "stdout",
     "output_type": "stream",
     "text": [
      "Twinkel, Twinkle, littel star,\n",
      "      How I wonder what you are!\n",
      "             Up above the world so high,\n",
      "            Like a diamond in the sky,\n",
      "Twinkle, twinkle, little star,\n",
      "      How I wonder what you are!\n"
     ]
    }
   ],
   "source": [
    "print (\"Twinkel, Twinkle, littel star,\")\n",
    "print (\"      How I wonder what you are!\")\n",
    "print (\"             Up above the world so high,\")\n",
    "print (\"            Like a diamond in the sky,\")\n",
    "print (\"Twinkle, twinkle, little star,\")\n",
    "print (\"      How I wonder what you are!\")\n"
   ]
  },
  {
   "cell_type": "markdown",
   "metadata": {},
   "source": [
    "# Question Number 2"
   ]
  },
  {
   "cell_type": "code",
   "execution_count": 2,
   "metadata": {},
   "outputs": [
    {
     "name": "stdout",
     "output_type": "stream",
     "text": [
      "3.7.3 (default, Mar 27 2019, 17:13:21) [MSC v.1915 64 bit (AMD64)]\n"
     ]
    }
   ],
   "source": [
    "import sys\n",
    "print(sys.version)"
   ]
  },
  {
   "cell_type": "markdown",
   "metadata": {},
   "source": [
    "# Question Number 3"
   ]
  },
  {
   "cell_type": "code",
   "execution_count": 3,
   "metadata": {},
   "outputs": [
    {
     "name": "stdout",
     "output_type": "stream",
     "text": [
      "2019-11-03 20:09:02.217409\n"
     ]
    }
   ],
   "source": [
    "import datetime as dt\n",
    "print(dt.datetime.now())"
   ]
  },
  {
   "cell_type": "markdown",
   "metadata": {},
   "source": [
    "# Question Number 4"
   ]
  },
  {
   "cell_type": "code",
   "execution_count": 7,
   "metadata": {},
   "outputs": [
    {
     "name": "stdout",
     "output_type": "stream",
     "text": [
      "Enter the radius of the circle = 659\n",
      "\n",
      "The area of the Circle with radius\n",
      " 659.0 is = 1364883.1428571427\n"
     ]
    }
   ],
   "source": [
    "pi = 22/7\n",
    "radius = float(input(\"Enter the radius of the circle = \"))\n",
    "\n",
    "area = pi * radius ** 2\n",
    "\n",
    "print(\"\\nThe area of the Circle with radius\\n\",radius, \"is =\",area)"
   ]
  },
  {
   "cell_type": "markdown",
   "metadata": {},
   "source": [
    "# Question Number 5"
   ]
  },
  {
   "cell_type": "code",
   "execution_count": 8,
   "metadata": {},
   "outputs": [
    {
     "name": "stdout",
     "output_type": "stream",
     "text": [
      "Input first name : sarwat\n",
      "Input last name : naheed\n",
      "Your name in reverse order is = naheed  sarwat\n"
     ]
    }
   ],
   "source": [
    "first = input(\"Input first name : \")\n",
    "last = input(\"Input last name : \")\n",
    "print(\"Your name in reverse order is =\",last,\"\",first)"
   ]
  },
  {
   "cell_type": "markdown",
   "metadata": {},
   "source": [
    "# # Question Number 6"
   ]
  },
  {
   "cell_type": "code",
   "execution_count": 9,
   "metadata": {},
   "outputs": [
    {
     "name": "stdout",
     "output_type": "stream",
     "text": [
      "Input first number: 2\n",
      "Input second number: 4\n",
      "The sum of 2 and 4 is = 6\n"
     ]
    }
   ],
   "source": [
    "x = int(input(\"Input first number: \"))\n",
    "y = int(input(\"Input second number: \"))\n",
    "print(\"The sum of\",x,\"and\",y,\"is =\",x+y)"
   ]
  },
  {
   "cell_type": "code",
   "execution_count": null,
   "metadata": {},
   "outputs": [],
   "source": []
  }
 ],
 "metadata": {
  "kernelspec": {
   "display_name": "Python 3",
   "language": "python",
   "name": "python3"
  },
  "language_info": {
   "codemirror_mode": {
    "name": "ipython",
    "version": 3
   },
   "file_extension": ".py",
   "mimetype": "text/x-python",
   "name": "python",
   "nbconvert_exporter": "python",
   "pygments_lexer": "ipython3",
   "version": "3.7.3"
  }
 },
 "nbformat": 4,
 "nbformat_minor": 2
}
